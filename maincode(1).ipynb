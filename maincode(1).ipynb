{
 "cells": [
  {
   "cell_type": "code",
   "execution_count": 1,
   "id": "ad48b17f",
   "metadata": {},
   "outputs": [],
   "source": [
    "import os\n",
    "import shutil"
   ]
  },
  {
   "cell_type": "code",
   "execution_count": 2,
   "id": "640650a7",
   "metadata": {},
   "outputs": [
    {
     "data": {
      "text/plain": [
       "['.ipynb_checkpoints',\n",
       " 'delivery_employer1.txt',\n",
       " 'delivery_employer2.xlsx',\n",
       " 'delivery_employer4.txt',\n",
       " 'employee6.txt',\n",
       " 'employee7.txt',\n",
       " 'employee8.csv',\n",
       " 'employee9.csv',\n",
       " 'managment_employer3.txt',\n",
       " 'sales_employer5.txt']"
      ]
     },
     "execution_count": 2,
     "metadata": {},
     "output_type": "execute_result"
    }
   ],
   "source": [
    "file_list = os.listdir('organisation'); file_list"
   ]
  },
  {
   "cell_type": "code",
   "execution_count": 3,
   "id": "d1df447c",
   "metadata": {},
   "outputs": [],
   "source": [
    "def create_folder(name):\n",
    "    try:\n",
    "        os.mkdir(name)\n",
    "    except FileExistsError:\n",
    "        print('Такая папка уже существует')"
   ]
  },
  {
   "cell_type": "code",
   "execution_count": 4,
   "id": "b1c98e3e",
   "metadata": {},
   "outputs": [],
   "source": [
    "def rename_file(name, new_name):\n",
    "    try:\n",
    "        os.rename(name, new_name)\n",
    "    except FileNotFoundError:\n",
    "        print(\"Не существует такого файла\")"
   ]
  },
  {
   "cell_type": "code",
   "execution_count": 5,
   "id": "5de2bdd6",
   "metadata": {},
   "outputs": [],
   "source": [
    "def move_file(name, which_dir):\n",
    "    try:\n",
    "        shutil.move(name, which_dir)\n",
    "    except FileNotFoundError:\n",
    "        print('Не существует такой папки')"
   ]
  },
  {
   "cell_type": "code",
   "execution_count": 6,
   "id": "80a5aa39",
   "metadata": {},
   "outputs": [
    {
     "name": "stdout",
     "output_type": "stream",
     "text": [
      "Такая папка уже существует\n",
      "Такая папка уже существует\n",
      "Такая папка уже существует\n",
      "Такая папка уже существует\n",
      "Такая папка уже существует\n"
     ]
    }
   ],
   "source": [
    "os.chdir('organisation')\n",
    "for filename in file_list:\n",
    "    if '_' in filename:\n",
    "        if filename != '.ipynb_checkpoints':\n",
    "            new_name = filename[filename.find('_')+1:]\n",
    "            name_dir = filename[:filename.find('_')]\n",
    "            create_folder(name_dir)\n",
    "            rename_file(filename, new_name)\n",
    "            move_file(new_name, name_dir)\n",
    "    else:\n",
    "        create_folder('others')\n",
    "        move_file(filename, 'others')"
   ]
  },
  {
   "cell_type": "code",
   "execution_count": 41,
   "id": "883abcbf",
   "metadata": {},
   "outputs": [
    {
     "data": {
      "text/plain": [
       "['.ipynb_checkpoints', 'delivery', 'managment', 'others', 'sales']"
      ]
     },
     "execution_count": 41,
     "metadata": {},
     "output_type": "execute_result"
    }
   ],
   "source": [
    "file_list_two = os.listdir(); file_list_two"
   ]
  },
  {
   "cell_type": "code",
   "execution_count": 40,
   "id": "0691c903",
   "metadata": {},
   "outputs": [
    {
     "name": "stdout",
     "output_type": "stream",
     "text": [
      "Такая папка уже существует\n",
      "Такая папка уже существует\n",
      "Такая папка уже существует\n"
     ]
    }
   ],
   "source": [
    "for direct in file_list_two:\n",
    "    if direct != '.ipynb_checkpoints':\n",
    "        os.chdir('C:\\\\Users\\\\Sophie\\\\Practicum6\\\\organisation\\\\' + direct)\n",
    "        for filename in os.listdir():\n",
    "            if filename != '.ipynb_checkpoints':\n",
    "                name_dir = filename[filename.find('.')+1:]\n",
    "                create_folder(name_dir)\n",
    "                move_file(filename, name_dir)\n",
    "        os.chdir('C:\\\\Users\\\\Sophie\\\\Practicum6\\\\organisation\\\\')"
   ]
  },
  {
   "cell_type": "code",
   "execution_count": null,
   "id": "f9eba157",
   "metadata": {},
   "outputs": [],
   "source": []
  }
 ],
 "metadata": {
  "kernelspec": {
   "display_name": "Python 3 (ipykernel)",
   "language": "python",
   "name": "python3"
  },
  "language_info": {
   "codemirror_mode": {
    "name": "ipython",
    "version": 3
   },
   "file_extension": ".py",
   "mimetype": "text/x-python",
   "name": "python",
   "nbconvert_exporter": "python",
   "pygments_lexer": "ipython3",
   "version": "3.9.7"
  }
 },
 "nbformat": 4,
 "nbformat_minor": 5
}
